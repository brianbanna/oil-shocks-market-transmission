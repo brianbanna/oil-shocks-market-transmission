{
 "cells": [
  {
   "cell_type": "markdown",
   "id": "9b147d05",
   "metadata": {},
   "source": [
    "# Outline: Oil Shocks and Market Transmission\n",
    "\n",
    "## Problem Statement\n",
    "Do anomalies in oil producers act as early warning signals for broader markets? This project investigates whether sudden volume spikes, sharp price moves, or overnight gaps in oil producers transmit into downstream sectors and the NASDAQ index.\n",
    "\n",
    "## Research Questions\n",
    "1. Do anomalies in oil producers systematically precede abnormal returns in downstream sectors?\n",
    "2. Which anomalies (volume spikes, returns, gaps) transmit most strongly?\n",
    "3. Are effects stronger during market stress (2014 collapse, 2020 COVID crash, 2022 energy crisis)?\n",
    "4. Can these signals be used to design simple trading rules?\n",
    "...\n",
    "\n",
    "## Planned Methodology\n",
    "- Collect data: oil producers, downstream sectors (airlines, utilities, chemicals), NASDAQ.\n",
    "- Define anomalies (volume, return, gap).\n",
    "- Run event study around anomalies.\n",
    "- Compare transmission under stress vs normal regimes.\n",
    "- Visualize cumulative abnormal returns.\n"
   ]
  }
 ],
 "metadata": {
  "language_info": {
   "name": "python"
  }
 },
 "nbformat": 4,
 "nbformat_minor": 5
}
